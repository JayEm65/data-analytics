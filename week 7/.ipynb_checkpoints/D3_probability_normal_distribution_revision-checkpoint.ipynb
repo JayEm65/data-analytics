{
 "cells": [
  {
   "cell_type": "markdown",
   "metadata": {},
   "source": [
    "**Table of contents**<a id='toc0_'></a>    \n",
    "- [Probability](#toc1_)    \n",
    "- [Normal distribution](#toc2_)    \n",
    "  - [Height: A binomial distribution](#toc2_1_)    \n",
    "- [Extra: Resources](#toc3_)    \n",
    "\n",
    "<!-- vscode-jupyter-toc-config\n",
    "\tnumbering=false\n",
    "\tanchor=true\n",
    "\tflat=false\n",
    "\tminLevel=1\n",
    "\tmaxLevel=6\n",
    "\t/vscode-jupyter-toc-config -->\n",
    "<!-- THIS CELL WILL BE REPLACED ON TOC UPDATE. DO NOT WRITE YOUR TEXT IN THIS CELL -->"
   ]
  },
  {
   "cell_type": "markdown",
   "metadata": {},
   "source": [
    "# <a id='toc2_'></a>[Normal distribution](#toc0_)"
   ]
  },
  {
   "cell_type": "markdown",
   "metadata": {},
   "source": [
    "We've already covered the normal distribution in terms of shape:\n",
    "\n",
    "![image.png](https://imgs.search.brave.com/890nJAyetvjXKqV3Dcfu4-Pj-BUk56L5MSP-zc5wArg/rs:fit:860:0:0/g:ce/aHR0cHM6Ly90NC5m/dGNkbi5uZXQvanBn/LzA1LzY4Lzk1LzU5/LzM2MF9GXzU2ODk1/NTk2MV9Pc0dkYmpo/MXFQa1N5czlsVU1z/bTVQa3VzTTdGR1B2/SC5qcGc)"
   ]
  },
  {
   "cell_type": "markdown",
   "metadata": {},
   "source": [
    "But we haven't looked at any examples of a normal distribution and what drives it! "
   ]
  },
  {
   "cell_type": "markdown",
   "metadata": {},
   "source": [
    "## <a id='toc2_1_'></a>[Height: A binomial distribution](#toc0_)"
   ]
  },
  {
   "cell_type": "markdown",
   "metadata": {},
   "source": [
    "For height, we don't have exactly a normal distribution but a binomial distribution, meaning that we have 2 normal distributions superimposed on each other, in this case representing the sex of individuals."
   ]
  },
  {
   "cell_type": "markdown",
   "metadata": {},
   "source": [
    "![](https://imgs.search.brave.com/IaGCI0_UBGutcGU-GpfLRhtrKJUeN7Gsnvs9tU9Ihso/rs:fit:860:0:0/g:ce/aHR0cHM6Ly90YWxs/LmxpZmUvd3AtY29u/dGVudC91cGxvYWRz/LzIwMTYvMDEvTmV3/LWhlaWdodC1kaXN0/cmlidXRpb24td2l0/aC1sZWdlbmQuanBn)"
   ]
  },
  {
   "cell_type": "markdown",
   "metadata": {},
   "source": [
    "But why does height fall under a normal distribution? "
   ]
  },
  {
   "cell_type": "markdown",
   "metadata": {},
   "source": [
    "It's estimated that height is [80% determined by genetics](https://medlineplus.gov/genetics/understanding/traits/height/) and there are **more than 700 genes** involved in determining height!\n",
    "\n",
    "In a very simplified manner, each gene will choose between two options: make someone taller or shorter. Then, all the 700 decisions are added together to determine the height of the person.\n",
    "\n",
    "Now, to help with seeing the result of the 700 decisions, we can use a [Galton Board](https://www.compadre.org/osp/EJSS/3965/109.htm).\n",
    "\n",
    "**Note:** In this example we're assuming that each decision is independent of the other decisions and that each decision is 50% likely to occur, which might not be the case in real life!"
   ]
  },
  {
   "cell_type": "markdown",
   "metadata": {},
   "source": [
    "# <a id='toc3_'></a>[Extra: Resources](#toc0_)\n",
    "\n",
    "- [Expected Values - StatQuest](https://www.youtube.com/watch?v=KLs_7b7SKi4)\n",
    "- [Conditional Probabilities - StatQuest](https://www.youtube.com/watch?v=_IgyaD7vOOA)\n",
    "- [Bayes Theorem - StatQuest](https://www.youtube.com/watch?v=9wCnvr7Xw4E)"
   ]
  }
 ],
 "metadata": {
  "kernelspec": {
   "display_name": "Python 3 (ipykernel)",
   "language": "python",
   "name": "python3"
  },
  "language_info": {
   "codemirror_mode": {
    "name": "ipython",
    "version": 3
   },
   "file_extension": ".py",
   "mimetype": "text/x-python",
   "name": "python",
   "nbconvert_exporter": "python",
   "pygments_lexer": "ipython3",
   "version": "3.9.13"
  }
 },
 "nbformat": 4,
 "nbformat_minor": 2
}
