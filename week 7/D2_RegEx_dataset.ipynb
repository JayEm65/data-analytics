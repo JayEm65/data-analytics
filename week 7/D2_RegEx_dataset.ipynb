{
  "cells": [
    {
      "cell_type": "markdown",
      "metadata": {},
      "source": [
        "# Get `enron` email dataset"
      ]
    },
    {
      "cell_type": "code",
      "execution_count": 1,
      "metadata": {
        "id": "pvV_opPDW0Lu"
      },
      "outputs": [],
      "source": [
        "import requests\n",
        "from bs4 import BeautifulSoup\n",
        "import pandas as pd"
      ]
    },
    {
      "cell_type": "code",
      "execution_count": 2,
      "metadata": {
        "id": "647xysrVW0Lx"
      },
      "outputs": [],
      "source": [
        "response = requests.get('http://www.enron-mail.com/email/skilling-j/inbox/')"
      ]
    },
    {
      "cell_type": "code",
      "execution_count": 3,
      "metadata": {
        "id": "N-IhkbHDW0Ly"
      },
      "outputs": [],
      "source": [
        "soup = BeautifulSoup(response.content)"
      ]
    },
    {
      "cell_type": "code",
      "execution_count": 4,
      "metadata": {
        "id": "FDh0AQPKW0Ly"
      },
      "outputs": [],
      "source": [
        "links_div = soup.body.find_all('div')[1]\n",
        "#links_div"
      ]
    },
    {
      "cell_type": "code",
      "execution_count": 5,
      "metadata": {
        "id": "Y6rUS2D7W0Ly"
      },
      "outputs": [],
      "source": [
        "soup_links = links_div.find_all('a')[:100]\n",
        "#soup_links"
      ]
    },
    {
      "cell_type": "code",
      "execution_count": 6,
      "metadata": {
        "id": "WfIgIuaTW0Lz"
      },
      "outputs": [],
      "source": [
        "links = ['http://www.enron-mail.com/email/skilling-j/inbox/'+item['href'] for item in soup_links]\n",
        "#links"
      ]
    },
    {
      "cell_type": "code",
      "execution_count": 7,
      "metadata": {
        "id": "jtJD46AzW0Lz"
      },
      "outputs": [],
      "source": [
        "def get_full_email(url):\n",
        "    resp = requests.get(url)\n",
        "    soup2 = BeautifulSoup(resp.content)\n",
        "    headers = soup2.find_all('table')[1].find_all('td',{'class':'header'})\n",
        "    concat = \" \".join([item.text for item in headers])\n",
        "    body = soup2.find_all('table')[1].find_all('div',{'class':'ebody'})[0].text\n",
        "    message = concat + \" body: \" + body\n",
        "    return message"
      ]
    },
    {
      "cell_type": "code",
      "execution_count": 8,
      "metadata": {
        "id": "2zPoHBAoW0L0"
      },
      "outputs": [],
      "source": [
        "all_messages = [get_full_email(link) for link in links]"
      ]
    },
    {
      "cell_type": "code",
      "execution_count": 9,
      "metadata": {
        "id": "Mz1vBgnHW0L0",
        "outputId": "77509fb5-4e4b-4e11-f381-ae0775996bab"
      },
      "outputs": [
        {
          "data": {
            "text/html": [
              "<div>\n",
              "<style scoped>\n",
              "    .dataframe tbody tr th:only-of-type {\n",
              "        vertical-align: middle;\n",
              "    }\n",
              "\n",
              "    .dataframe tbody tr th {\n",
              "        vertical-align: top;\n",
              "    }\n",
              "\n",
              "    .dataframe thead th {\n",
              "        text-align: right;\n",
              "    }\n",
              "</style>\n",
              "<table border=\"1\" class=\"dataframe\">\n",
              "  <thead>\n",
              "    <tr style=\"text-align: right;\">\n",
              "      <th></th>\n",
              "      <th>raw message</th>\n",
              "    </tr>\n",
              "  </thead>\n",
              "  <tbody>\n",
              "    <tr>\n",
              "      <th>0</th>\n",
              "      <td>From: 40enron@enron.com To:  Subject: 2001 Cha...</td>\n",
              "    </tr>\n",
              "    <tr>\n",
              "      <th>1</th>\n",
              "      <td>From: chairman.office@enron.com To:  Subject: ...</td>\n",
              "    </tr>\n",
              "    <tr>\n",
              "      <th>2</th>\n",
              "      <td>From: 40enron@enron.com To:  Subject: 2001 Tex...</td>\n",
              "    </tr>\n",
              "    <tr>\n",
              "      <th>3</th>\n",
              "      <td>From: kim.clark@enron.com To: croozin@wireweb....</td>\n",
              "    </tr>\n",
              "    <tr>\n",
              "      <th>4</th>\n",
              "      <td>From: forster@enron.com To: jeff.skilling@enro...</td>\n",
              "    </tr>\n",
              "    <tr>\n",
              "      <th>...</th>\n",
              "      <td>...</td>\n",
              "    </tr>\n",
              "    <tr>\n",
              "      <th>95</th>\n",
              "      <td>From: clay@dfj.com To: lou.pai@enron.com Subje...</td>\n",
              "    </tr>\n",
              "    <tr>\n",
              "      <th>96</th>\n",
              "      <td>From: sdsl768k@yahoo.com To: jskilli@enron.com...</td>\n",
              "    </tr>\n",
              "    <tr>\n",
              "      <th>97</th>\n",
              "      <td>From: mrudula.gadade@enron.com To: kenneth.lay...</td>\n",
              "    </tr>\n",
              "    <tr>\n",
              "      <th>98</th>\n",
              "      <td>From: hemery@firstunion1.com To:  Subject: Dai...</td>\n",
              "    </tr>\n",
              "    <tr>\n",
              "      <th>99</th>\n",
              "      <td>From: no.address@enron.com To:  Subject: Daily...</td>\n",
              "    </tr>\n",
              "  </tbody>\n",
              "</table>\n",
              "<p>100 rows × 1 columns</p>\n",
              "</div>"
            ],
            "text/plain": [
              "                                          raw message\n",
              "0   From: 40enron@enron.com To:  Subject: 2001 Cha...\n",
              "1   From: chairman.office@enron.com To:  Subject: ...\n",
              "2   From: 40enron@enron.com To:  Subject: 2001 Tex...\n",
              "3   From: kim.clark@enron.com To: croozin@wireweb....\n",
              "4   From: forster@enron.com To: jeff.skilling@enro...\n",
              "..                                                ...\n",
              "95  From: clay@dfj.com To: lou.pai@enron.com Subje...\n",
              "96  From: sdsl768k@yahoo.com To: jskilli@enron.com...\n",
              "97  From: mrudula.gadade@enron.com To: kenneth.lay...\n",
              "98  From: hemery@firstunion1.com To:  Subject: Dai...\n",
              "99  From: no.address@enron.com To:  Subject: Daily...\n",
              "\n",
              "[100 rows x 1 columns]"
            ]
          },
          "execution_count": 9,
          "metadata": {},
          "output_type": "execute_result"
        }
      ],
      "source": [
        "enron = pd.DataFrame(all_messages,columns=['raw message'])\n",
        "enron"
      ]
    },
    {
      "cell_type": "code",
      "execution_count": 10,
      "metadata": {
        "id": "xf15TLmnW0L1"
      },
      "outputs": [],
      "source": [
        "enron.to_csv('enron.csv', index=False)"
      ]
    },
    {
      "cell_type": "markdown",
      "metadata": {},
      "source": [
        "# References/Acknowledgments\n",
        "\n",
        "Thank you, David Henriques for this dataset example."
      ]
    }
  ],
  "metadata": {
    "colab": {
      "provenance": []
    },
    "kernelspec": {
      "display_name": "Python 3",
      "language": "python",
      "name": "python3"
    },
    "language_info": {
      "codemirror_mode": {
        "name": "ipython",
        "version": 3
      },
      "file_extension": ".py",
      "mimetype": "text/x-python",
      "name": "python",
      "nbconvert_exporter": "python",
      "pygments_lexer": "ipython3",
      "version": "3.9.13"
    }
  },
  "nbformat": 4,
  "nbformat_minor": 0
}
